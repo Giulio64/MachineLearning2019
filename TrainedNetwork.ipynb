{
 "cells": [
  {
   "cell_type": "code",
   "execution_count": 11,
   "metadata": {},
   "outputs": [],
   "source": [
    "import pandas as pd\n",
    "import numpy as np\n",
    "import os\n",
    "import matplotlib.pyplot as plt\n",
    "import h5py\n",
    "\n",
    "\n",
    "from tensorflow.keras.callbacks import ModelCheckpoint\n",
    "from tensorflow.keras.layers import Dense,GlobalAveragePooling2D,BatchNormalization,Dropout\n",
    "from tensorflow.keras.applications import MobileNet\n",
    "from tensorflow.keras.preprocessing import image\n",
    "from tensorflow.keras.applications.mobilenet import preprocess_input\n",
    "from tensorflow.keras.preprocessing.image import ImageDataGenerator\n",
    "from tensorflow.keras.models import Model\n",
    "from tensorflow.keras.optimizers import Adam\n",
    "import sklearn.metrics \n",
    "from sklearn.metrics import classification_report, confusion_matrix\n",
    "\n",
    "trainingSet = 'trainSet'\n",
    "testSet = 'testSet'"
   ]
  },
  {
   "cell_type": "markdown",
   "metadata": {},
   "source": [
    "As before, we need to uniform all the images to the same size and resolutions:"
   ]
  },
  {
   "cell_type": "code",
   "execution_count": 9,
   "metadata": {},
   "outputs": [
    {
     "name": "stdout",
     "output_type": "stream",
     "text": [
      "Found 2000 images belonging to 4 classes.\n",
      "Found 3038 images belonging to 4 classes.\n",
      "Image input (256, 256, 3)\n",
      "Classes: ['HAZE', 'RAINY', 'SNOWY', 'SUNNY']\n",
      "Loaded 2000 training samples from 4 classes.\n",
      "Loaded 3038 test samples from 4 classes.\n"
     ]
    }
   ],
   "source": [
    "\n",
    "batch_size = 32\n",
    "trainDatagen = ImageDataGenerator(\n",
    "    rescale = 1. / 255,\\\n",
    "    zoom_range=0.1,\\\n",
    "    rotation_range=10,\\\n",
    "    width_shift_range=0.1,\\\n",
    "    height_shift_range=0.1,\\\n",
    "    horizontal_flip=True,\\\n",
    "    vertical_flip=False)\n",
    "\n",
    "trainGenerator = trainDatagen.flow_from_directory(\n",
    "    directory=trainingSet,\n",
    "    target_size=(256,256),\n",
    "    color_mode=\"rgb\",\n",
    "    batch_size=batch_size,\n",
    "    class_mode=\"categorical\",\n",
    "    shuffle=True\n",
    ")\n",
    "\n",
    "testDatagen = ImageDataGenerator(\n",
    "    rescale = 1. / 255)\n",
    "\n",
    "testGenerator = testDatagen.flow_from_directory(\n",
    "    directory=testSet,\n",
    "    target_size=(256, 256),\n",
    "    color_mode=\"rgb\",\n",
    "    batch_size=batch_size,\n",
    "    class_mode=\"categorical\",\n",
    "    shuffle=False\n",
    ")\n",
    "\n",
    "num_samples = trainGenerator.n\n",
    "num_classes = trainGenerator.num_classes\n",
    "input_shape = trainGenerator.image_shape\n",
    "\n",
    "classnames = [k for k,v in trainGenerator.class_indices.items()]\n",
    "\n",
    "print(\"Image input %s\" %str(input_shape))\n",
    "print(\"Classes: %r\" %classnames)\n",
    "\n",
    "print('Loaded %d training samples from %d classes.' %(num_samples,num_classes))\n",
    "print('Loaded %d test samples from %d classes.' %(testGenerator.n,testGenerator.num_classes))\n"
   ]
  },
  {
   "cell_type": "markdown",
   "metadata": {},
   "source": [
    "Now we can add new layers to our trained model:"
   ]
  },
  {
   "cell_type": "code",
   "execution_count": null,
   "metadata": {},
   "outputs": [],
   "source": [
    "x=Dense(1024,activation='relu')(x) #we add dense layers so that the model can learn more complex functions and classify for better results.\n",
    "x=BatchNormalization()(x)\n",
    "x=Dropout(0.5)(x)\n",
    "x=Dense(1024,activation='relu')(x) #dense layer 2\n",
    "x=BatchNormalization()(x)\n",
    "x=Dropout(0.25)(x)\n",
    "x=Dense(512,activation='relu')(x) #dense layer 3\n",
    "x=BatchNormalization()(x)\n",
    "x=Dropout(0.25)(x)\n",
    "preds=Dense(4,activation='softmax')(x) #final layer with softmax activation\n",
    "\n",
    "model=Model(inputs=base_model.input,outputs=preds)\n",
    "\n",
    "\n",
    "for layer in model.layers[:20]:\n",
    "    layer.trainable=False\n",
    "for layer in model.layers[20:]:\n",
    "    layer.trainable=True\n",
    "\n",
    "model.summary()"
   ]
  },
  {
   "cell_type": "code",
   "execution_count": null,
   "metadata": {},
   "outputs": [],
   "source": [
    "model.compile(optimizer='Adam',loss='categorical_crossentropy',metrics=['accuracy'])\n",
    "\n",
    "steps_per_epoch=trainGenerator.n//trainGenerator.batch_size\n",
    "val_steps=testGenerator.n//testGenerator.batch_size+1\n",
    "\n",
    "print(steps_per_epoch)\n",
    "print(val_steps)\n",
    "\n",
    "\n",
    "checkpoint = ModelCheckpoint(checkpoint_path, monitor='val_accuracy', verbose=1, save_best_only=True)\n",
    "\n",
    "history = model.fit_generator(trainGenerator, epochs=20,callbacks=[checkpoint], verbose=1,\\\n",
    "                    steps_per_epoch=steps_per_epoch,\\\n",
    "                    validation_data=testGenerator,\\\n",
    "                    validation_steps=val_steps)\n",
    "\n",
    "model.load_weights(checkpath)"
   ]
  },
  {
   "cell_type": "markdown",
   "metadata": {},
   "source": [
    "Now we can plot the confusion matrix:"
   ]
  },
  {
   "cell_type": "code",
   "execution_count": null,
   "metadata": {},
   "outputs": [],
   "source": [
    "\n",
    "preds = model.predict_generator(testGenerator,verbose=1,steps=val_steps)\n",
    "\n",
    "Ypred = np.argmax(preds, axis=1)\n",
    "Ytest = testGenerator.classes  # shuffle=False in test_generator\n",
    "\n",
    "print(classification_report(Ytest, Ypred, labels=None, target_names=classnames, digits=3))\n",
    "\n",
    "\n",
    "cm = confusion_matrix(Ytest, Ypred)\n",
    "\n",
    "conf = [] # data structure for confusions: list of (i,j,cm[i][j])\n",
    "for i in range(0,cm.shape[0]):\n",
    "  for j in range(0,cm.shape[1]):\n",
    "    if (i!=j and cm[i][j]>0):\n",
    "      conf.append([i,j,cm[i][j]])\n",
    "\n",
    "col=2\n",
    "conf = np.array(conf)\n",
    "conf = conf[np.argsort(-conf[:,col])]  # decreasing order by 3-rd column (i.e., cm[i][j])\n",
    "\n",
    "print('%-16s     %-16s  \\t%s \\t%s ' %('True','Predicted','errors','err %'))\n",
    "print('------------------------------------------------------------------')\n",
    "for k in conf:\n",
    "  print('%-16s ->  %-16s  \\t%d \\t%.2f %% ' %(classnames[k[0]],classnames[k[1]],k[2],k[2]*100.0/test_generator.n))\n",
    "  "
   ]
  },
  {
   "cell_type": "markdown",
   "metadata": {},
   "source": [
    "Now we can plot our results:"
   ]
  },
  {
   "cell_type": "code",
   "execution_count": null,
   "metadata": {},
   "outputs": [],
   "source": [
    "\n",
    "for i in history.history :\n",
    "  print(i)\n",
    "# summarize history for accuracy\n",
    "plt.plot(history.history['accuracy'])\n",
    "plt.plot(history.history['val_accuracy'])\n",
    "plt.title('model accuracy')\n",
    "plt.ylabel('accuracy')\n",
    "plt.xlabel('epoch')\n",
    "plt.legend(['train', 'test'], loc='upper left')\n",
    "plt.show()\n",
    "# summarize history for loss\n",
    "plt.plot(history.history['loss'])\n",
    "plt.plot(history.history['val_loss'])\n",
    "plt.title('model loss')\n",
    "plt.ylabel('loss')\n",
    "plt.xlabel('epoch')\n",
    "plt.legend(['train', 'test'], loc='upper left')\n",
    "plt.show()"
   ]
  }
 ],
 "metadata": {
  "kernelspec": {
   "display_name": "Python 3",
   "language": "python",
   "name": "python3"
  },
  "language_info": {
   "codemirror_mode": {
    "name": "ipython",
    "version": 3
   },
   "file_extension": ".py",
   "mimetype": "text/x-python",
   "name": "python",
   "nbconvert_exporter": "python",
   "pygments_lexer": "ipython3",
   "version": "3.7.4"
  }
 },
 "nbformat": 4,
 "nbformat_minor": 2
}
